{
 "cells": [
  {
   "cell_type": "code",
   "execution_count": 2,
   "metadata": {},
   "outputs": [],
   "source": [
    "%reload_ext autoreload\n",
    "%autoreload 2\n",
    "import os, sys\n",
    "import re\n",
    "import json\n",
    "import glob\n",
    "import datetime\n",
    "from collections import Counter\n",
    "\n",
    "import pandas as pd\n",
    "from matplotlib import pyplot as plt \n",
    "import seaborn  as sns \n",
    "\n",
    "# from nltk.corpus import stopwords\n",
    "# from wordcloud import WordCloud"
   ]
  },
  {
   "cell_type": "code",
   "execution_count": 3,
   "metadata": {},
   "outputs": [
    {
     "name": "stdout",
     "output_type": "stream",
     "text": [
      "c:\\Users\\HP\\Desktop\\10xfile\\Week_01\\slack-data-analysis\n"
     ]
    }
   ],
   "source": [
    "rpath = os.path.abspath('..')\n",
    "if rpath not in sys.path:\n",
    "    sys.path.insert(0, rpath)\n",
    "\n",
    "\n",
    "\n",
    "from src.loader import SlackDataLoader\n",
    "from src import utils\n",
    "print (rpath)"
   ]
  },
  {
   "cell_type": "code",
   "execution_count": 29,
   "metadata": {},
   "outputs": [
    {
     "name": "stdout",
     "output_type": "stream",
     "text": [
      "<src.loader.SlackDataLoader object at 0x000001CDAF67D9A0>\n"
     ]
    },
    {
     "ename": "AttributeError",
     "evalue": "'SlackDataLoader' object has no attribute 'channels'",
     "output_type": "error",
     "traceback": [
      "\u001b[1;31m---------------------------------------------------------------------------\u001b[0m",
      "\u001b[1;31mAttributeError\u001b[0m                            Traceback (most recent call last)",
      "Cell \u001b[1;32mIn[29], line 3\u001b[0m\n\u001b[0;32m      1\u001b[0m data_Loader \u001b[38;5;241m=\u001b[39m SlackDataLoader(\u001b[38;5;124m'\u001b[39m\u001b[38;5;124m../Data/anonymized\u001b[39m\u001b[38;5;124m'\u001b[39m)\n\u001b[0;32m      2\u001b[0m \u001b[38;5;28mprint\u001b[39m(data_Loader)\n\u001b[1;32m----> 3\u001b[0m \u001b[43mdata_Loader\u001b[49m\u001b[38;5;241;43m.\u001b[39;49m\u001b[43mchannels\u001b[49m\n",
      "\u001b[1;31mAttributeError\u001b[0m: 'SlackDataLoader' object has no attribute 'channels'"
     ]
    }
   ],
   "source": [
    "data_Loader = SlackDataLoader('../Data/anonymized')\n",
    "print(data_Loader)\n",
    "data_Loader.channels"
   ]
  },
  {
   "cell_type": "code",
   "execution_count": 31,
   "metadata": {},
   "outputs": [
    {
     "data": {
      "text/html": [
       "<div>\n",
       "<style scoped>\n",
       "    .dataframe tbody tr th:only-of-type {\n",
       "        vertical-align: middle;\n",
       "    }\n",
       "\n",
       "    .dataframe tbody tr th {\n",
       "        vertical-align: top;\n",
       "    }\n",
       "\n",
       "    .dataframe thead th {\n",
       "        text-align: right;\n",
       "    }\n",
       "</style>\n",
       "<table border=\"1\" class=\"dataframe\">\n",
       "  <thead>\n",
       "    <tr style=\"text-align: right;\">\n",
       "      <th></th>\n",
       "      <th>msg_type</th>\n",
       "      <th>msg_content</th>\n",
       "      <th>sender_id</th>\n",
       "      <th>time_msg</th>\n",
       "      <th>msg_dist</th>\n",
       "      <th>time_thread_st</th>\n",
       "      <th>reply_users</th>\n",
       "      <th>reply_count</th>\n",
       "      <th>reply_users_count</th>\n",
       "      <th>tm_thread_end</th>\n",
       "      <th>channel</th>\n",
       "    </tr>\n",
       "  </thead>\n",
       "  <tbody>\n",
       "    <tr>\n",
       "      <th>0</th>\n",
       "      <td>message</td>\n",
       "      <td>good morning everyone :blush: welcome to week ...</td>\n",
       "      <td>Bridget Glover</td>\n",
       "      <td>1665385707.569729</td>\n",
       "      <td>text</td>\n",
       "      <td>0</td>\n",
       "      <td>0</td>\n",
       "      <td>0</td>\n",
       "      <td>0</td>\n",
       "      <td>0</td>\n",
       "      <td></td>\n",
       "    </tr>\n",
       "    <tr>\n",
       "      <th>1</th>\n",
       "      <td>message</td>\n",
       "      <td>good morning!</td>\n",
       "      <td>Rachel Mann</td>\n",
       "      <td>1665385734.616309</td>\n",
       "      <td>text</td>\n",
       "      <td>0</td>\n",
       "      <td>0</td>\n",
       "      <td>0</td>\n",
       "      <td>0</td>\n",
       "      <td>0</td>\n",
       "      <td></td>\n",
       "    </tr>\n",
       "    <tr>\n",
       "      <th>2</th>\n",
       "      <td>message</td>\n",
       "      <td>good morning.</td>\n",
       "      <td>Trevor Duffy</td>\n",
       "      <td>1665385760.620169</td>\n",
       "      <td>text</td>\n",
       "      <td>0</td>\n",
       "      <td>0</td>\n",
       "      <td>0</td>\n",
       "      <td>0</td>\n",
       "      <td>0</td>\n",
       "      <td></td>\n",
       "    </tr>\n",
       "    <tr>\n",
       "      <th>3</th>\n",
       "      <td>message</td>\n",
       "      <td>good morning!!!</td>\n",
       "      <td>David Nguyen</td>\n",
       "      <td>1665387214.795849</td>\n",
       "      <td>text</td>\n",
       "      <td>0</td>\n",
       "      <td>0</td>\n",
       "      <td>0</td>\n",
       "      <td>0</td>\n",
       "      <td>0</td>\n",
       "      <td></td>\n",
       "    </tr>\n",
       "    <tr>\n",
       "      <th>4</th>\n",
       "      <td>message</td>\n",
       "      <td>good morning.</td>\n",
       "      <td>Robert James</td>\n",
       "      <td>1665388127.826899</td>\n",
       "      <td>text</td>\n",
       "      <td>0</td>\n",
       "      <td>0</td>\n",
       "      <td>0</td>\n",
       "      <td>0</td>\n",
       "      <td>0</td>\n",
       "      <td></td>\n",
       "    </tr>\n",
       "  </tbody>\n",
       "</table>\n",
       "</div>"
      ],
      "text/plain": [
       "  msg_type                                        msg_content       sender_id  \\\n",
       "0  message  good morning everyone :blush: welcome to week ...  Bridget Glover   \n",
       "1  message                                      good morning!     Rachel Mann   \n",
       "2  message                                      good morning.    Trevor Duffy   \n",
       "3  message                                    good morning!!!    David Nguyen   \n",
       "4  message                                      good morning.    Robert James   \n",
       "\n",
       "            time_msg msg_dist time_thread_st reply_users  reply_count  \\\n",
       "0  1665385707.569729     text              0           0            0   \n",
       "1  1665385734.616309     text              0           0            0   \n",
       "2  1665385760.620169     text              0           0            0   \n",
       "3  1665387214.795849     text              0           0            0   \n",
       "4  1665388127.826899     text              0           0            0   \n",
       "\n",
       "   reply_users_count tm_thread_end channel  \n",
       "0                  0             0          \n",
       "1                  0             0          \n",
       "2                  0             0          \n",
       "3                  0             0          \n",
       "4                  0             0          "
      ]
     },
     "execution_count": 31,
     "metadata": {},
     "output_type": "execute_result"
    }
   ],
   "source": [
    "#data_Loader = SlackDataLoader('../Data/anonymized')\n",
    "#print(data_Loader)\n",
    "# all_week_1_path = os.path.join(\"..Data/anonymized\")\n",
    "# week1_df = data_Loader.slack_parser(\"..Data/anonymized\")\n",
    "# week1_df.head()\n",
    "\n",
    "# which user has the highest number of reply counts?\n",
    "# which user has the highest number of reply counts?\n",
    "data = SlackDataLoader('../Data/anonymized/')\n",
    "data_week8 = data.slack_parser('../Data/anonymized/all-week8/')\n",
    "#data_sorted = data_week8.sort_values(by='reply_count', ascending=True)\n",
    "#data_week8.head(1)['sender_id'].values[0]\n",
    "data_week8.head()"
   ]
  },
  {
   "cell_type": "code",
   "execution_count": null,
   "metadata": {},
   "outputs": [],
   "source": []
  }
 ],
 "metadata": {
  "kernelspec": {
   "display_name": "week0",
   "language": "python",
   "name": "python3"
  },
  "language_info": {
   "codemirror_mode": {
    "name": "ipython",
    "version": 3
   },
   "file_extension": ".py",
   "mimetype": "text/x-python",
   "name": "python",
   "nbconvert_exporter": "python",
   "pygments_lexer": "ipython3",
   "version": "3.12.0"
  }
 },
 "nbformat": 4,
 "nbformat_minor": 2
}
